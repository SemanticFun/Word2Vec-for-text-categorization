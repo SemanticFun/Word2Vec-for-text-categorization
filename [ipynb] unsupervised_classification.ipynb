{
 "cells": [
  {
   "cell_type": "markdown",
   "metadata": {
    "id": "sFZh-vlocD2O"
   },
   "source": [
    "# Unsupervised classification with Word2"
   ]
  },
  {
   "cell_type": "markdown",
   "metadata": {
    "id": "WMyUCpW3cD2S"
   },
   "source": [
    "We use the document vectors derived from Word2Vec to classify newspaper articles according to the type of crime they report. In this notebook, we use unsupervised algorithms. We train an algorithm and see if the obtained clusters fits with the annotation provided by newspaper."
   ]
  },
  {
   "cell_type": "code",
   "execution_count": null,
   "metadata": {
    "id": "Y-d1i2JQcD2T"
   },
   "outputs": [],
   "source": [
    "import pandas as pd\n",
    "import numpy as np\n",
    "import matplotlib.pyplot as plt\n",
    "from collections import Counter\n",
    "from imblearn.over_sampling import SMOTE\n",
    "from sklearn import metrics\n",
    "from sklearn.cluster import KMeans, SpectralClustering, AgglomerativeClustering, MiniBatchKMeans\n",
    "from matplotlib.patches import Patch\n",
    "from gensim.models import KeyedVectors\n",
    "from sklearn.decomposition import PCA\n",
    "from sklearn.manifold import TSNE\n",
    "from sklearn.discriminant_analysis import LinearDiscriminantAnalysis\n",
    "from mpl_toolkits import mplot3d\n",
    "import operator"
   ]
  },
  {
   "cell_type": "code",
   "execution_count": null,
   "metadata": {
    "id": "i2OcxnS_jR_-"
   },
   "outputs": [],
   "source": [
    "configuration = 3    # possible values are: 1, 2, 3\n",
    "mean = 'simple'\n",
    "\n",
    "###\n",
    "# configuration=1 --> P1: tokenization, stop word removal\n",
    "# configuration=2 --> P2: tokenization, stop word removal, lemmatization\n",
    "# configuration=3 --> P3: tokenization, stop word removal, lemmatization, keyphrase extraction\n",
    "###\n",
    "\n",
    "folder=\"configuration_\"+str(configuration)\n",
    "\n",
    "if configuration == 1:\n",
    "    lemmatization=False\n",
    "    bigram=False\n",
    "elif configuration == 2:\n",
    "    lemmatization=True\n",
    "    bigram=False\n",
    "elif configuration == 3:\n",
    "    lemmatization=True\n",
    "    bigram=True"
   ]
  },
  {
   "cell_type": "markdown",
   "metadata": {
    "id": "XB7Mj4ckjR__"
   },
   "source": [
    "### Modify this line to use the type of embeddings you want"
   ]
  },
  {
   "cell_type": "code",
   "execution_count": null,
   "metadata": {
    "id": "0v-K934IcD2U"
   },
   "outputs": [],
   "source": [
    "dataset = pd.read_csv(folder+\"/\"+mean+\"/csv/retrained_vectors.csv\")"
   ]
  },
  {
   "cell_type": "code",
   "execution_count": null,
   "metadata": {
    "colab": {
     "base_uri": "https://localhost:8080/",
     "height": 1000
    },
    "id": "CnKtReEScD2U",
    "outputId": "1b3282dc-9b84-4a95-c911-b49f5f507399"
   },
   "outputs": [],
   "source": [
    "dataset"
   ]
  },
  {
   "cell_type": "code",
   "execution_count": null,
   "metadata": {
    "id": "hWimQkoXjSAB"
   },
   "outputs": [],
   "source": [
    "colors = [\"red\", \"gold\", \"green\", \"mediumblue\", \"orange\", \"darkturquoise\", \"lightgreen\",\n",
    "          \"deeppink\", \"lightpink\", \"blueviolet\", \"purple\", \"gray\", \"darkgoldenrod\"]"
   ]
  },
  {
   "cell_type": "code",
   "execution_count": null,
   "metadata": {
    "id": "GmP_xTv_jSAB"
   },
   "outputs": [],
   "source": [
    "target_to_color = {'furto': 'red', 'truffa': 'gold', 'spaccio': 'green', 'maltrattamento': 'mediumblue', 'riciclaggio': 'orange', 'aggressione': 'darkturquoise', 'violenza sessuale': 'lightgreen', 'evasione': 'deeppink', 'droga': 'lightpink', 'frode': 'blueviolet', 'rapina': 'purple', 'sequestro': 'gray', 'omicidio': 'darkgoldenrod'}"
   ]
  },
  {
   "cell_type": "code",
   "execution_count": null,
   "metadata": {
    "id": "pVFZKxrAjSAC"
   },
   "outputs": [],
   "source": [
    "dataset['color'] = dataset.apply(lambda row: target_to_color[row['target']], axis=1)"
   ]
  },
  {
   "cell_type": "code",
   "execution_count": null,
   "metadata": {
    "id": "PFkhh6wKjSAC"
   },
   "outputs": [],
   "source": [
    "label = dataset['target'].drop_duplicates().to_list()\n",
    "\n",
    "#zip_iterator = zip(label, colors)\n",
    "#label_to_color = dict(zip_iterator)"
   ]
  },
  {
   "cell_type": "code",
   "execution_count": null,
   "metadata": {
    "id": "94jYaMI9jSAD"
   },
   "outputs": [],
   "source": [
    "embeddings = dataset.copy()\n",
    "embeddings.drop(['url', 'title', 'newspaper', 'text', 'date', 'time',\n",
    "       'preprocessed', 'target', 'color'], axis=1, inplace=True)"
   ]
  },
  {
   "cell_type": "code",
   "execution_count": null,
   "metadata": {
    "colab": {
     "base_uri": "https://localhost:8080/",
     "height": 443
    },
    "id": "UazQ-HqXjSAD",
    "outputId": "649cde47-701e-4fec-a2eb-ef08917134c0"
   },
   "outputs": [],
   "source": [
    "embeddings"
   ]
  },
  {
   "cell_type": "markdown",
   "metadata": {
    "id": "GE7GbM9zcD2V"
   },
   "source": [
    "We want to use only the news articles from \"Modena Today\" newspaper."
   ]
  },
  {
   "cell_type": "code",
   "execution_count": null,
   "metadata": {
    "id": "kKEURF_HcD2V"
   },
   "outputs": [],
   "source": [
    "train = dataset[dataset['newspaper'] == 'ModenaToday']"
   ]
  },
  {
   "cell_type": "code",
   "execution_count": null,
   "metadata": {
    "colab": {
     "base_uri": "https://localhost:8080/"
    },
    "id": "dMprlnKfjSAE",
    "outputId": "02a65822-6310-484c-96e4-113024eb75b5"
   },
   "outputs": [],
   "source": [
    "train.shape"
   ]
  },
  {
   "cell_type": "code",
   "execution_count": null,
   "metadata": {
    "id": "t-Mi0X5icD2W"
   },
   "outputs": [],
   "source": [
    "train = train.drop(columns=['newspaper'])"
   ]
  },
  {
   "cell_type": "code",
   "execution_count": null,
   "metadata": {
    "id": "95QgJGOocD2X"
   },
   "outputs": [],
   "source": [
    "train = train.reset_index(drop=True)"
   ]
  },
  {
   "cell_type": "code",
   "execution_count": null,
   "metadata": {
    "id": "h41QY9gFcD2X"
   },
   "outputs": [],
   "source": [
    "Y_train = train['target']"
   ]
  },
  {
   "cell_type": "code",
   "execution_count": null,
   "metadata": {
    "colab": {
     "base_uri": "https://localhost:8080/"
    },
    "id": "E68JL9zmcD2Y",
    "outputId": "16a47aa2-b7df-4b9b-cd95-e4029d3a940f"
   },
   "outputs": [],
   "source": [
    "counter = Counter(Y_train)\n",
    "counter"
   ]
  },
  {
   "cell_type": "code",
   "execution_count": null,
   "metadata": {
    "colab": {
     "base_uri": "https://localhost:8080/"
    },
    "id": "swlmkuo4cD2Z",
    "outputId": "eef7f654-4e95-4b3b-de77-a9a97d29f91e"
   },
   "outputs": [],
   "source": [
    "label_to_index = {v: i for i, v in enumerate(dict(Counter(Y_train)).keys())}\n",
    "label_to_index"
   ]
  },
  {
   "cell_type": "code",
   "execution_count": null,
   "metadata": {
    "colab": {
     "base_uri": "https://localhost:8080/"
    },
    "id": "p8yjFszrcD2a",
    "outputId": "45dc519a-3503-405a-fdb1-b9fdf3243aa5"
   },
   "outputs": [],
   "source": [
    "index_to_label = {i: v for i, v in enumerate(dict(Counter(Y_train)).keys())}\n",
    "index_to_label"
   ]
  },
  {
   "cell_type": "code",
   "execution_count": null,
   "metadata": {
    "id": "GusSDhGlcD2a"
   },
   "outputs": [],
   "source": [
    "Y_train = Y_train.map(label_to_index)\n",
    "Y_train = Y_train.values"
   ]
  },
  {
   "cell_type": "code",
   "execution_count": null,
   "metadata": {
    "colab": {
     "base_uri": "https://localhost:8080/"
    },
    "id": "6ArmfCY0jSAG",
    "outputId": "000d0684-1835-4e0f-c2a0-16f1b6c82de2"
   },
   "outputs": [],
   "source": [
    "Y_train"
   ]
  },
  {
   "cell_type": "code",
   "execution_count": null,
   "metadata": {
    "id": "k6Rj4XsbcD2b"
   },
   "outputs": [],
   "source": [
    "info_train = train[['url', 'title', 'text', 'target']].copy()"
   ]
  },
  {
   "cell_type": "code",
   "execution_count": null,
   "metadata": {
    "id": "vVG_T28XcD2b"
   },
   "outputs": [],
   "source": [
    "X_train = train.drop(columns=['url', 'title', 'text', 'date', 'time', 'preprocessed', 'target', 'color']).values"
   ]
  },
  {
   "cell_type": "code",
   "execution_count": null,
   "metadata": {
    "colab": {
     "base_uri": "https://localhost:8080/"
    },
    "id": "JusibCIZcD2c",
    "outputId": "4bedf9a1-ab2e-4140-fac5-d418a54f9843"
   },
   "outputs": [],
   "source": [
    "X_train.shape"
   ]
  },
  {
   "cell_type": "code",
   "execution_count": null,
   "metadata": {
    "colab": {
     "base_uri": "https://localhost:8080/"
    },
    "id": "dMqJvIaejSAH",
    "outputId": "c46f55d6-8d17-4cef-f9a5-e5282c2b2954"
   },
   "outputs": [],
   "source": [
    "Counter(Y_train)"
   ]
  },
  {
   "cell_type": "code",
   "execution_count": null,
   "metadata": {
    "colab": {
     "base_uri": "https://localhost:8080/"
    },
    "id": "0Z3aRRM80y72",
    "outputId": "04b694c5-56b6-446b-e8c7-919fe3f74bf5"
   },
   "outputs": [],
   "source": [
    "Y_train.shape"
   ]
  },
  {
   "cell_type": "markdown",
   "metadata": {
    "id": "cGvFWYCYcD2d"
   },
   "source": [
    "# Oversampling"
   ]
  },
  {
   "cell_type": "markdown",
   "metadata": {
    "id": "w5b9fy9ecD2d"
   },
   "source": [
    "To overcome the problem of unbalanced dataset we use SMOTE to create new elements and get the same number of elements for each category."
   ]
  },
  {
   "cell_type": "code",
   "execution_count": null,
   "metadata": {
    "id": "i6PK7xQPcD2e"
   },
   "outputs": [],
   "source": [
    "smt = SMOTE(random_state=0, k_neighbors=2)"
   ]
  },
  {
   "cell_type": "code",
   "execution_count": null,
   "metadata": {
    "id": "x-4DRlg0cD38"
   },
   "outputs": [],
   "source": [
    "X_train_SMOTE, Y_train_SMOTE = smt.fit_resample(X_train, Y_train)"
   ]
  },
  {
   "cell_type": "code",
   "execution_count": null,
   "metadata": {
    "id": "59zGNPwCcD39"
   },
   "outputs": [],
   "source": [
    "X_trainb = pd.DataFrame(columns=range(300))\n",
    "Y_trainb = pd.DataFrame()"
   ]
  },
  {
   "cell_type": "code",
   "execution_count": null,
   "metadata": {
    "colab": {
     "base_uri": "https://localhost:8080/"
    },
    "id": "0CRkB8gTjSAI",
    "outputId": "f25de14b-2003-4ece-dd76-b45f9bc75765"
   },
   "outputs": [],
   "source": [
    "Counter(Y_train_SMOTE)"
   ]
  },
  {
   "cell_type": "code",
   "execution_count": null,
   "metadata": {
    "id": "VkIJSfBQcD39"
   },
   "outputs": [],
   "source": [
    "for i in range(13):\n",
    "    X_trainb = X_trainb.append(pd.DataFrame(X_train_SMOTE[Y_train_SMOTE == i][:], columns=range(300)))\n",
    "    Y_trainb = Y_trainb.append(pd.DataFrame(Y_train_SMOTE[Y_train_SMOTE == i][:]))"
   ]
  },
  {
   "cell_type": "code",
   "execution_count": null,
   "metadata": {
    "id": "HQpmVpJ0cD3-"
   },
   "outputs": [],
   "source": [
    "X_trainb = X_trainb.reset_index(drop=True)\n",
    "Y_trainb = Y_trainb.reset_index(drop=True)"
   ]
  },
  {
   "cell_type": "code",
   "execution_count": null,
   "metadata": {
    "id": "3DFmfZ2scD3-"
   },
   "outputs": [],
   "source": [
    "X_trainb = X_trainb.values\n",
    "Y_trainb = Y_trainb.values"
   ]
  },
  {
   "cell_type": "code",
   "execution_count": null,
   "metadata": {
    "colab": {
     "base_uri": "https://localhost:8080/"
    },
    "id": "liEn6QgycD3-",
    "outputId": "286435ca-7e69-4b21-9da0-4b0ee6b84388"
   },
   "outputs": [],
   "source": [
    "Y_trainb = Y_trainb[:, 0]\n",
    "Y_trainb"
   ]
  },
  {
   "cell_type": "code",
   "execution_count": null,
   "metadata": {
    "id": "-GjwfE_VcD3-"
   },
   "outputs": [],
   "source": [
    "Y_trainb = np.vectorize(index_to_label.get)(Y_trainb)"
   ]
  },
  {
   "cell_type": "code",
   "execution_count": null,
   "metadata": {
    "colab": {
     "base_uri": "https://localhost:8080/"
    },
    "id": "7K8rRf_PcD3-",
    "outputId": "61ebc93a-9ff2-4a15-b574-fae3b326b9d4"
   },
   "outputs": [],
   "source": [
    "Y_trainb"
   ]
  },
  {
   "cell_type": "code",
   "execution_count": null,
   "metadata": {
    "colab": {
     "base_uri": "https://localhost:8080/"
    },
    "id": "1Q1ikTT_jSAJ",
    "outputId": "7617bfd1-b92e-4a3d-fbd9-b844ad42ec06"
   },
   "outputs": [],
   "source": [
    "len(Y_trainb)"
   ]
  },
  {
   "cell_type": "markdown",
   "metadata": {
    "id": "Agy_hkGrjSAJ"
   },
   "source": [
    "# Clustering"
   ]
  },
  {
   "cell_type": "code",
   "execution_count": null,
   "metadata": {
    "id": "h1bNjxkpjSAK"
   },
   "outputs": [],
   "source": [
    "def generate_clusters(n_clusters, Y_train, prediction):\n",
    "    clusters = []\n",
    "    for cluster in range(n_clusters):\n",
    "        elements = Y_train[np.where(prediction == cluster)]\n",
    "        if len(elements) != 0:\n",
    "            clusters.append(elements)\n",
    "    return clusters"
   ]
  },
  {
   "cell_type": "code",
   "execution_count": null,
   "metadata": {
    "id": "VhfqRfe-jSAK"
   },
   "outputs": [],
   "source": [
    "def matrix_clusters(clusters, n_clusters, labels):\n",
    "    matrix = pd.DataFrame(columns=[1, 2, 3, 4, 5, 6, 7, 8, 9, 10, 11, 12, 13], index=labels)\n",
    "    for cl in range(n_clusters):\n",
    "        micro_counts = Counter(clusters[cl])\n",
    "        for k, v in micro_counts.items():\n",
    "            index = cl+1\n",
    "            matrix.loc[k, index] = v\n",
    "    return matrix.fillna(0)"
   ]
  },
  {
   "cell_type": "code",
   "execution_count": null,
   "metadata": {
    "id": "nuGJRUbtjSAK"
   },
   "outputs": [],
   "source": [
    "def assign_labels(M_copy):\n",
    "    \n",
    "    max_values = {}\n",
    "    accuracies = []\n",
    "    labels = list(index_to_label.values())\n",
    "\n",
    "    for c in list(M_copy.columns.values):\n",
    "        column = M_copy[c]\n",
    "        row_index = column.idxmax()\n",
    "        max_v = M_copy.loc[row_index, c]\n",
    "        max_values[str(row_index)+'_'+str(c)]=max_v\n",
    "\n",
    "    max_max = max(max_values.items(), key=operator.itemgetter(1))[0]\n",
    "    \n",
    "    return max_max.split('_')[0], int(max_max.split('_')[1])"
   ]
  },
  {
   "cell_type": "code",
   "execution_count": null,
   "metadata": {
    "id": "LGmEC-wbjSAK"
   },
   "outputs": [],
   "source": [
    "def plot_clusters(clusters, n_clusters, filename):\n",
    "    \n",
    "    fig, axs = plt.subplots(7, 2)\n",
    "    fig.set_figwidth(20)\n",
    "    fig.set_figheight(20)\n",
    "    \n",
    "    for cl in range(n_clusters):\n",
    "        micro_counts = Counter(clusters[cl])\n",
    "\n",
    "        axs[int(cl/2), int(cl%2)].set_title('Cluster {}'.format(cl+1), fontsize=20)\n",
    "        \n",
    "        labels = []\n",
    "\n",
    "        for k, v in micro_counts.items():\n",
    "            labels.append(k)\n",
    "            axs[int(cl/2), int(cl%2)].bar(k, v, width=0.6, color=dataset[dataset['target']==k].color, align='center')\n",
    "        axs[int(cl/2), int(cl%2)].set_xticklabels(labels, fontsize=15, rotation=30)\n",
    "        \n",
    "        fig.tight_layout(pad=1.0)\n",
    "        \n",
    "    fig.savefig(filename+'.png')"
   ]
  },
  {
   "cell_type": "code",
   "execution_count": null,
   "metadata": {
    "id": "ZnN2MLo_jSAL"
   },
   "outputs": [],
   "source": [
    "def plot_multiclusters(clusters, n_clusters, micro_to_macro, colors, c, filename):\n",
    "    \n",
    "    info_categories = {}\n",
    "    macro_to_micro = {}\n",
    "    i = 0\n",
    "    \n",
    "    fig, axs = plt.subplots(4, 2)\n",
    "    fig.set_figwidth(20)\n",
    "    fig.set_figheight(20)\n",
    "    \n",
    "    for k, v in micro_to_macro.items():\n",
    "        info_categories[k] = [colors[i], c, i]\n",
    "        i = i + 1\n",
    "\n",
    "    for k, v in micro_to_macro.items():\n",
    "        if v not in macro_to_micro:\n",
    "            macro_to_micro[v] = [k]\n",
    "        else:\n",
    "            macro_to_micro[v].append(k)\n",
    "        \n",
    "    for cl in range(n_clusters):\n",
    "        micro_counts = Counter(clusters[cl])\n",
    "        x = np.arange(len(micro_counts))\n",
    "        macro_keys = np.vectorize(micro_to_macro.get)(clusters[cl])\n",
    "        macro_keys = list(dict(Counter(macro_keys)).keys())\n",
    "        hist_elements = np.zeros((len(macro_keys), 13), dtype=np.int32)\n",
    "\n",
    "        color_patches = []\n",
    "        for i, el in enumerate(macro_keys):\n",
    "            for m in macro_to_micro[el]:\n",
    "                hist_elements[i][info_categories[m][2]] = micro_counts[m]\n",
    "                if micro_counts[m] > 0:\n",
    "                    color_patches.append(Patch(color=info_categories[m][0], label=m))\n",
    "\n",
    "            count = 0\n",
    "            for j in reversed(range(13)):\n",
    "                count += hist_elements[i][j]\n",
    "                hist_elements[i][j] = count\n",
    "\n",
    "        axs[int(cl/2), int(cl%2)].set_title('Cluster {}'.format(cl+1), fontsize=20)\n",
    "        ind = np.arange(len(macro_keys))\n",
    "\n",
    "        b_width = 0.8\n",
    "\n",
    "        \n",
    "        for k, v in info_categories.items():\n",
    "            axs[int(cl/2), int(cl%2)].bar(ind, hist_elements[:, v[2]], b_width, color=v[0])\n",
    "\n",
    "        # axs[int(cl/2), int(cl%2)].set_xticklabels(labels, fontsize=15, rotation=30)\n",
    "        \n",
    "        fig.tight_layout(pad=1.0)\n",
    "        \n",
    "    fig.savefig(filename+'.png')"
   ]
  },
  {
   "cell_type": "markdown",
   "metadata": {
    "id": "7Niv_NcVjSAL"
   },
   "source": [
    "# Kmeans"
   ]
  },
  {
   "cell_type": "code",
   "execution_count": null,
   "metadata": {
    "colab": {
     "base_uri": "https://localhost:8080/"
    },
    "id": "otjvl9a2jSAL",
    "outputId": "14e44a2b-7fbd-4d0a-d5e0-77ea0b1b76a7"
   },
   "outputs": [],
   "source": [
    "%%time\n",
    "\n",
    "kmeans_13 = KMeans(n_clusters=13)\n",
    "kmeans_13.fit(X_trainb)\n",
    "pred_classes_kmeans_13 = kmeans_13.predict(X_trainb)"
   ]
  },
  {
   "cell_type": "code",
   "execution_count": null,
   "metadata": {
    "id": "t9XTYNNljSAL"
   },
   "outputs": [],
   "source": [
    "clusters_kmeans_13 = generate_clusters(13, Y_trainb, pred_classes_kmeans_13)"
   ]
  },
  {
   "cell_type": "code",
   "execution_count": null,
   "metadata": {
    "colab": {
     "base_uri": "https://localhost:8080/",
     "height": 394
    },
    "id": "Y6zobOUBjSAL",
    "outputId": "987486cc-3fc8-4b24-ff26-fd46d2bcd9df"
   },
   "outputs": [],
   "source": [
    "from yellowbrick.cluster import SilhouetteVisualizer\n",
    "\n",
    "visualizer = SilhouetteVisualizer(kmeans_13, colors='yellowbrick')\n",
    "visualizer.fit(X_trainb)\n",
    "visualizer.show()"
   ]
  },
  {
   "cell_type": "code",
   "execution_count": null,
   "metadata": {
    "colab": {
     "base_uri": "https://localhost:8080/"
    },
    "id": "ijocXpFjjSAM",
    "outputId": "b7c4223b-93c2-4b6c-8933-e111f0eb098f"
   },
   "outputs": [],
   "source": [
    "# my_metrics=['euclidean', 'manhattan', 'cityblock', 'braycurtis', 'canberra', 'chebyshev', 'correlation', 'cosine', 'dice', 'hamming', 'jaccard', 'kulsinski', 'mahalanobis', 'matching', 'minkowski', 'rogerstanimoto', 'russellrao', 'seuclidean', 'sokalmichener', 'sokalsneath', 'sqeuclidean', 'yule', 'wminkowski', 'nan_euclidean', 'haversine']\n",
    "# for m in my_metrics:\n",
    "#     print(m)\n",
    "#     print(metrics.silhouette_score(X_trainb, kmeans_13.labels_, metric=m))\n",
    "\n",
    "metrics.silhouette_score(X_trainb, kmeans_13.labels_, metric='euclidean')"
   ]
  },
  {
   "cell_type": "code",
   "execution_count": null,
   "metadata": {
    "id": "rcG7-SS1jSAM"
   },
   "outputs": [],
   "source": [
    "M = matrix_clusters(clusters_kmeans_13, 13, list(index_to_label.values()))"
   ]
  },
  {
   "cell_type": "code",
   "execution_count": null,
   "metadata": {
    "colab": {
     "base_uri": "https://localhost:8080/",
     "height": 457
    },
    "id": "NfXLstzSjSAM",
    "outputId": "c52212c6-9fff-4195-cd15-0fb1acbe4c33"
   },
   "outputs": [],
   "source": [
    "M"
   ]
  },
  {
   "cell_type": "code",
   "execution_count": null,
   "metadata": {
    "id": "8f4OQe85jSAM"
   },
   "outputs": [],
   "source": [
    "# from sklearn.metrics.classification import accuracy_score\n",
    "# accuracy_score(Y_trainb, np.vectorize(index_to_label.get)(kmeans_13.labels_))"
   ]
  },
  {
   "cell_type": "code",
   "execution_count": null,
   "metadata": {
    "colab": {
     "base_uri": "https://localhost:8080/"
    },
    "id": "mW25TSLcjSAM",
    "outputId": "3e3a7fa0-323a-4f49-e274-b99d50672d15"
   },
   "outputs": [],
   "source": [
    "clusters = range(1,14)\n",
    "M_copy = M.copy()\n",
    "assigned = {}\n",
    "\n",
    "for i in clusters:\n",
    "    row, column = assign_labels(M_copy)\n",
    "    assigned[row] = column\n",
    "    M_copy.drop(column, axis=1, inplace=True)\n",
    "    M_copy.drop(row, inplace=True)\n",
    "print(assigned)"
   ]
  },
  {
   "cell_type": "code",
   "execution_count": null,
   "metadata": {
    "colab": {
     "base_uri": "https://localhost:8080/"
    },
    "id": "2hPd98iejSAN",
    "outputId": "c1611e96-df9f-4e12-e8a5-c6dbed483fde"
   },
   "outputs": [],
   "source": [
    "overall_precision = 0\n",
    "overall_recall = 0\n",
    "total_sum = 0\n",
    "for label, cluster in assigned.items():\n",
    "    print(label)\n",
    "    TP = M.loc[label, cluster]\n",
    "    FP = M[cluster].sum() - M.loc[label, cluster]\n",
    "    FN = M.loc[label].sum() - M.loc[label, cluster]\n",
    "    precision = TP/(TP+FP)\n",
    "    recall = TP/(TP+FN)\n",
    "    print(precision)\n",
    "    print(recall)\n",
    "    sum = TP+FN\n",
    "    total_sum += sum\n",
    "    overall_precision += (precision*sum)\n",
    "    overall_recall += (recall*sum)\n",
    "\n",
    "overall_precision = overall_precision/total_sum\n",
    "overall_recall = overall_recall/total_sum\n",
    "f1=(2*overall_precision*overall_recall)/(overall_precision+overall_recall)\n",
    "all=M.sum().sum()\n",
    "TN=all-TP-FP-FN\n",
    "accuracy=(TP+TN)/all\n",
    "print(overall_precision)\n",
    "print(overall_recall)\n",
    "print(f1)\n",
    "print(accuracy)"
   ]
  },
  {
   "cell_type": "code",
   "execution_count": null,
   "metadata": {
    "colab": {
     "base_uri": "https://localhost:8080/",
     "height": 1000
    },
    "id": "V4cn1bCojSAN",
    "outputId": "b3ad5d1f-d8cd-4b57-83f1-7cb27f00172f"
   },
   "outputs": [],
   "source": [
    "plot_clusters(clusters_kmeans_13, 13, 'kmeans_13clusters')"
   ]
  },
  {
   "cell_type": "markdown",
   "metadata": {
    "id": "flaYTvZpcD4D"
   },
   "source": [
    "# AgglomerativeClustering"
   ]
  },
  {
   "cell_type": "code",
   "execution_count": null,
   "metadata": {
    "colab": {
     "base_uri": "https://localhost:8080/"
    },
    "id": "PyV5iaV4cD4D",
    "outputId": "c279f441-fbca-4547-fdf7-157cb7f0de59"
   },
   "outputs": [],
   "source": [
    "%%time\n",
    "model = AgglomerativeClustering(n_clusters=13)\n",
    "# model_fit = model.fit(X_trainb)\n",
    "pred_classes_agglo_13 = model.fit_predict(X_trainb)\n",
    "\n",
    "# pred_classes_agglo_13 = AgglomerativeClustering(n_clusters=13).fit_predict(X_trainb)"
   ]
  },
  {
   "cell_type": "code",
   "execution_count": null,
   "metadata": {
    "id": "QCAvJZJ6cD4D"
   },
   "outputs": [],
   "source": [
    "clusters_agglo_13 = generate_clusters(13, Y_trainb, pred_classes_agglo_13)"
   ]
  },
  {
   "cell_type": "code",
   "execution_count": null,
   "metadata": {
    "id": "cjRDsGoXjSAN"
   },
   "outputs": [],
   "source": [
    "# visualizer = SilhouetteVisualizer(model, colors='yellowbrick')\n",
    "# visualizer.fit_predict(X_trainb)\n",
    "# visualizer.show()"
   ]
  },
  {
   "cell_type": "code",
   "execution_count": null,
   "metadata": {
    "colab": {
     "base_uri": "https://localhost:8080/"
    },
    "id": "eTEeRintjSAN",
    "outputId": "c6efdc5d-31d0-47a9-ade4-2e5c35f2f896"
   },
   "outputs": [],
   "source": [
    "metrics.silhouette_score(X_trainb, model.labels_, metric='euclidean')"
   ]
  },
  {
   "cell_type": "code",
   "execution_count": null,
   "metadata": {
    "id": "2-8PZNR7jSAO"
   },
   "outputs": [],
   "source": [
    "M = matrix_clusters(clusters_agglo_13, 13, list(index_to_label.values()))"
   ]
  },
  {
   "cell_type": "code",
   "execution_count": null,
   "metadata": {
    "colab": {
     "base_uri": "https://localhost:8080/",
     "height": 457
    },
    "id": "fHv6OxKKjSAO",
    "outputId": "4a9f2ade-e653-454d-fdc3-43896d169431"
   },
   "outputs": [],
   "source": [
    "M"
   ]
  },
  {
   "cell_type": "code",
   "execution_count": null,
   "metadata": {
    "colab": {
     "base_uri": "https://localhost:8080/"
    },
    "id": "-97g9z5BjSAO",
    "outputId": "01e35d53-4de9-473e-d7de-3dd375d0a21c"
   },
   "outputs": [],
   "source": [
    "clusters = range(1,14)\n",
    "M_copy = M.copy()\n",
    "assigned = {}\n",
    "\n",
    "for i in clusters:\n",
    "    row, column = assign_labels(M_copy)\n",
    "    assigned[row] = column\n",
    "    M_copy.drop(column, axis=1, inplace=True)\n",
    "    M_copy.drop(row, inplace=True)\n",
    "print(assigned)"
   ]
  },
  {
   "cell_type": "code",
   "execution_count": null,
   "metadata": {
    "colab": {
     "base_uri": "https://localhost:8080/"
    },
    "id": "NG3xhdG1jSAO",
    "outputId": "130573b2-46b9-4085-9709-7c5738a785bb"
   },
   "outputs": [],
   "source": [
    "overall_precision = 0\n",
    "overall_recall = 0\n",
    "total_sum = 0\n",
    "for label, cluster in assigned.items():\n",
    "    print(label)\n",
    "    TP = M.loc[label, cluster]\n",
    "    FP = M[cluster].sum() - M.loc[label, cluster]\n",
    "    FN = M.loc[label].sum() - M.loc[label, cluster]\n",
    "    precision = TP/(TP+FP)\n",
    "    recall = TP/(TP+FN)\n",
    "    print(precision)\n",
    "    print(recall)\n",
    "    sum = TP+FN\n",
    "    total_sum += sum\n",
    "    overall_precision += (precision*sum)\n",
    "    overall_recall += (recall*sum)\n",
    "\n",
    "overall_precision = overall_precision/total_sum\n",
    "overall_recall = overall_recall/total_sum\n",
    "f1=(2*overall_precision*overall_recall)/(overall_precision+overall_recall)\n",
    "all=M.sum().sum()\n",
    "TN=all-TP-FP-FN\n",
    "accuracy=(TP+TN)/all\n",
    "print(overall_precision)\n",
    "print(overall_recall)\n",
    "print(f1)\n",
    "print(accuracy)"
   ]
  },
  {
   "cell_type": "code",
   "execution_count": null,
   "metadata": {
    "colab": {
     "base_uri": "https://localhost:8080/",
     "height": 1000
    },
    "id": "1kyOYzwhcD4E",
    "outputId": "5cc49f81-97ac-4f22-8b7d-3e9d3562d9c1",
    "scrolled": true
   },
   "outputs": [],
   "source": [
    "plot_clusters(clusters_agglo_13, 13, \"agglomerative_clustering_13clusters\")"
   ]
  },
  {
   "cell_type": "markdown",
   "metadata": {
    "id": "BlpQE4y9cD4E"
   },
   "source": [
    "# MiniBatchKmeans"
   ]
  },
  {
   "cell_type": "code",
   "execution_count": null,
   "metadata": {
    "colab": {
     "base_uri": "https://localhost:8080/"
    },
    "id": "E3f-IihJcD4E",
    "outputId": "2b2b1010-f33a-4489-ee80-9c617d72a999"
   },
   "outputs": [],
   "source": [
    "%%time\n",
    "\n",
    "minikmeans_13 = MiniBatchKMeans(n_clusters=13, random_state=0, batch_size=6)\n",
    "pred_classes_minikmeans_13 = minikmeans_13.fit_predict(X_trainb)"
   ]
  },
  {
   "cell_type": "code",
   "execution_count": null,
   "metadata": {
    "id": "H_oHsn9PcD4E"
   },
   "outputs": [],
   "source": [
    "clusters_minibatch_13 = generate_clusters(13, Y_trainb, pred_classes_minikmeans_13)"
   ]
  },
  {
   "cell_type": "code",
   "execution_count": null,
   "metadata": {
    "id": "iL8yq5G5jSAP",
    "scrolled": true
   },
   "outputs": [],
   "source": [
    "# visualizer = SilhouetteVisualizer(minikmeans_13, colors='yellowbrick')\n",
    "# visualizer.fit_predict(X_trainb)\n",
    "# visualizer.show()"
   ]
  },
  {
   "cell_type": "code",
   "execution_count": null,
   "metadata": {
    "colab": {
     "base_uri": "https://localhost:8080/"
    },
    "id": "kepc1xryjSAP",
    "outputId": "fe0796d2-d634-4ea5-eb05-f3097bb76315"
   },
   "outputs": [],
   "source": [
    "metrics.silhouette_score(X_trainb, minikmeans_13.labels_, metric='euclidean')"
   ]
  },
  {
   "cell_type": "code",
   "execution_count": null,
   "metadata": {
    "id": "E1HdcLUfjSAP"
   },
   "outputs": [],
   "source": [
    "M = matrix_clusters(clusters_minibatch_13, 13, list(index_to_label.values()))"
   ]
  },
  {
   "cell_type": "code",
   "execution_count": null,
   "metadata": {
    "colab": {
     "base_uri": "https://localhost:8080/",
     "height": 457
    },
    "id": "WPMekOwfjSAP",
    "outputId": "e15f9587-cbd4-48ee-ed8b-23b1709dd058"
   },
   "outputs": [],
   "source": [
    "M"
   ]
  },
  {
   "cell_type": "code",
   "execution_count": null,
   "metadata": {
    "colab": {
     "base_uri": "https://localhost:8080/"
    },
    "id": "KBl14zHsjSAP",
    "outputId": "572f4ed0-5b3c-4921-bfef-02f40f3d6a1e"
   },
   "outputs": [],
   "source": [
    "clusters = range(1,14)\n",
    "M_copy = M.copy()\n",
    "assigned = {}\n",
    "\n",
    "for i in clusters:\n",
    "    row, column = assign_labels(M_copy)\n",
    "    assigned[row] = column\n",
    "    M_copy.drop(column, axis=1, inplace=True)\n",
    "    M_copy.drop(row, inplace=True)\n",
    "print(assigned)"
   ]
  },
  {
   "cell_type": "code",
   "execution_count": null,
   "metadata": {
    "colab": {
     "base_uri": "https://localhost:8080/"
    },
    "id": "h-JedljJjSAQ",
    "outputId": "b0febce5-c877-4969-900e-a9e75c80bb33"
   },
   "outputs": [],
   "source": [
    "overall_precision = 0\n",
    "overall_recall = 0\n",
    "total_sum = 0\n",
    "for label, cluster in assigned.items():\n",
    "    print(label)\n",
    "    TP = M.loc[label, cluster]\n",
    "    FP = M[cluster].sum() - M.loc[label, cluster]\n",
    "    FN = M.loc[label].sum() - M.loc[label, cluster]\n",
    "    precision = TP/(TP+FP)\n",
    "    recall = TP/(TP+FN)\n",
    "    print(precision)\n",
    "    print(recall)\n",
    "    sum = TP+FN\n",
    "    total_sum += sum\n",
    "    overall_precision += (precision*sum)\n",
    "    overall_recall += (recall*sum)\n",
    "\n",
    "overall_precision = overall_precision/total_sum\n",
    "overall_recall = overall_recall/total_sum\n",
    "f1=(2*overall_precision*overall_recall)/(overall_precision+overall_recall)\n",
    "all=M.sum().sum()\n",
    "TN=all-TP-FP-FN\n",
    "accuracy=(TP+TN)/all\n",
    "print(overall_precision)\n",
    "print(overall_recall)\n",
    "print(f1)\n",
    "print(accuracy)"
   ]
  },
  {
   "cell_type": "code",
   "execution_count": null,
   "metadata": {
    "colab": {
     "base_uri": "https://localhost:8080/",
     "height": 1000
    },
    "id": "5FFUUHtecD4E",
    "outputId": "bfe28cee-bad0-4ca6-ede1-500910c4ef33"
   },
   "outputs": [],
   "source": [
    "plot_clusters(clusters_minibatch_13, 13, \"mini_batch_kmeans_13clusters\")"
   ]
  },
  {
   "cell_type": "markdown",
   "metadata": {
    "id": "KZ_KTH4-jSAQ"
   },
   "source": [
    "# Spectral clustering"
   ]
  },
  {
   "cell_type": "code",
   "execution_count": null,
   "metadata": {
    "id": "GAKxj2Q-jSAQ"
   },
   "outputs": [],
   "source": [
    "%%time\n",
    "\n",
    "spcl_13 = SpectralClustering(n_clusters=13, assign_labels=\"discretize\", random_state=0)\n",
    "pred_classes_splc_13 = spcl_13.fit_predict(X_trainb)"
   ]
  },
  {
   "cell_type": "code",
   "execution_count": null,
   "metadata": {
    "id": "36wotCNpjSAQ"
   },
   "outputs": [],
   "source": [
    "clusters_spectral_13=generate_clusters(13, Y_trainb, pred_classes_splc_13)"
   ]
  },
  {
   "cell_type": "code",
   "execution_count": null,
   "metadata": {
    "id": "lHnREgC5jSAR"
   },
   "outputs": [],
   "source": [
    "metrics.silhouette_score(X_trainb, spcl_13.labels_, metric='euclidean')"
   ]
  },
  {
   "cell_type": "code",
   "execution_count": null,
   "metadata": {
    "id": "ddU7jLrajSAR"
   },
   "outputs": [],
   "source": [
    "M = matrix_clusters(clusters_spectral_13, 13, list(index_to_label.values()))"
   ]
  },
  {
   "cell_type": "code",
   "execution_count": null,
   "metadata": {
    "id": "UwF-vKEmjSAR"
   },
   "outputs": [],
   "source": [
    "M"
   ]
  },
  {
   "cell_type": "code",
   "execution_count": null,
   "metadata": {
    "id": "SyX91axFjSAR"
   },
   "outputs": [],
   "source": [
    "clusters = range(1,14)\n",
    "M_copy = M.copy()\n",
    "assigned = {}\n",
    "\n",
    "for i in clusters:\n",
    "    row, column = assign_labels(M_copy)\n",
    "    assigned[row] = column\n",
    "    M_copy.drop(column, axis=1, inplace=True)\n",
    "    M_copy.drop(row, inplace=True)\n",
    "print(assigned)"
   ]
  },
  {
   "cell_type": "code",
   "execution_count": null,
   "metadata": {
    "id": "Htc4_jKmjSAR"
   },
   "outputs": [],
   "source": [
    "overall_precision = 0\n",
    "overall_recall = 0\n",
    "total_sum = 0\n",
    "for label, cluster in assigned.items():\n",
    "    print(label)\n",
    "    TP = M.loc[label, cluster]\n",
    "    FP = M[cluster].sum() - M.loc[label, cluster]\n",
    "    FN = M.loc[label].sum() - M.loc[label, cluster]\n",
    "    precision = TP/(TP+FP)\n",
    "    recall = TP/(TP+FN)\n",
    "    print(precision)\n",
    "    print(recall)\n",
    "    sum = TP+FN\n",
    "    total_sum += sum\n",
    "    overall_precision += (precision*sum)\n",
    "    overall_recall += (recall*sum)\n",
    "\n",
    "overall_precision = overall_precision/total_sum\n",
    "overall_recall = overall_recall/total_sum\n",
    "f1=(2*overall_precision*overall_recall)/(overall_precision+overall_recall)\n",
    "all=M.sum().sum()\n",
    "TN=all-TP-FP-FN\n",
    "accuracy=(TP+TN)/all\n",
    "print(overall_precision)\n",
    "print(overall_recall)\n",
    "print(f1)\n",
    "print(accuracy)"
   ]
  },
  {
   "cell_type": "code",
   "execution_count": null,
   "metadata": {
    "id": "xxWhu6MpjSAR"
   },
   "outputs": [],
   "source": [
    "plot_clusters(clusters_spectral_13, 13, \"spectral_clustering_13clusters\")"
   ]
  },
  {
   "cell_type": "markdown",
   "metadata": {
    "id": "maQ2PmVmcD3_"
   },
   "source": [
    "# Clustering with macrocategories"
   ]
  },
  {
   "cell_type": "markdown",
   "metadata": {
    "id": "HSE6QIVgcD3_"
   },
   "source": [
    "We group the categories into macrocategories. Each macrocategory contains categories which are semantically similar, for example \"Fraud\", \"Scam\" and \"Money Laundering\"."
   ]
  },
  {
   "cell_type": "markdown",
   "metadata": {
    "id": "v7vLFwWJcD3_"
   },
   "source": [
    "The following data structures are needed for histogram visualization.\n",
    "\n",
    "1. The first structure associates each category with its own macrocategory, the color in which it should be highlighted in the histograms, the number of elements contained by the training set and an index indicating its position in the histogram\n",
    "2. The second structure associates each macro-category with all its sub-category"
   ]
  },
  {
   "cell_type": "code",
   "execution_count": null,
   "metadata": {
    "id": "r9XFFYmAcD3_"
   },
   "outputs": [],
   "source": [
    "micro_to_macro = {\n",
    "             'rapina':'furto e\\nrapina',\n",
    "             'furto': 'furto e\\nrapina',\n",
    "             'spaccio': 'spaccio e\\ndroga',\n",
    "             'droga': 'spaccio e\\ndroga',\n",
    "             'truffa': 'truffa, frode\\ne riciclaggio',\n",
    "             'riciclaggio': 'truffa, frode\\ne riciclaggio',\n",
    "             'frode': 'truffa, frode\\ne riciclaggio',\n",
    "             'aggressione': 'maltrattamento,\\naggressione e\\nviolenza sessuale',\n",
    "             'maltrattamento': 'maltrattamento,\\naggressione e\\nviolenza sessuale',\n",
    "             'violenza sessuale': 'maltrattamento,\\naggressione e\\nviolenza sessuale',\n",
    "             'sequestro': 'sequestro',\n",
    "             'omicidio': 'omicidio',\n",
    "             'evasione': 'evasione'\n",
    "        }"
   ]
  },
  {
   "cell_type": "code",
   "execution_count": null,
   "metadata": {
    "id": "f9MMR_32cD3_"
   },
   "outputs": [],
   "source": [
    "colors = [\"red\", \"gold\", \"green\", \"mediumblue\", \"orange\", \"darkturquoise\", \"lightgreen\",\n",
    "          \"deeppink\", \"lightpink\", \"blueviolet\", \"purple\", \"gray\", \"darkgoldenrod\"]"
   ]
  },
  {
   "cell_type": "code",
   "execution_count": null,
   "metadata": {
    "id": "2-dUvWJejSAS"
   },
   "outputs": [],
   "source": [
    "c = int(len(Y_train_SMOTE)/13)"
   ]
  },
  {
   "cell_type": "code",
   "execution_count": null,
   "metadata": {
    "id": "dW8gc5vF3pFj"
   },
   "outputs": [],
   "source": [
    "def matrix_multiclusters(clusters, n_clusters):\n",
    "    matrix = pd.DataFrame(columns=[1, 2, 3, 4, 5, 6, 7], index=['1', '2', '3', '4', '5', '6', '7'])\n",
    "    for cl in range(n_clusters):\n",
    "        micro_counts = Counter(clusters[cl])\n",
    "        for k, v in micro_counts.items():\n",
    "            index = cl+1\n",
    "            matrix.loc[k, index] = v\n",
    "    return matrix.fillna(0)"
   ]
  },
  {
   "cell_type": "markdown",
   "metadata": {
    "id": "ngGRI-JIcD4B"
   },
   "source": [
    "# Kmeans"
   ]
  },
  {
   "cell_type": "code",
   "execution_count": null,
   "metadata": {
    "id": "JxbEl5ZWcD4B"
   },
   "outputs": [],
   "source": [
    "%%time\n",
    "\n",
    "kmeans_7clusters = KMeans(n_clusters=7).fit(X_trainb)\n",
    "pred_classes_kmeans_7clusters = kmeans_7clusters.predict(X_trainb)"
   ]
  },
  {
   "cell_type": "code",
   "execution_count": null,
   "metadata": {
    "id": "cLyUVNatcD4B"
   },
   "outputs": [],
   "source": [
    "clusters_kmeans_7 = generate_clusters(7, Y_trainb, pred_classes_kmeans_7clusters)"
   ]
  },
  {
   "cell_type": "code",
   "execution_count": null,
   "metadata": {
    "id": "SsjLZRO-jSAS"
   },
   "outputs": [],
   "source": [
    "plot_multiclusters(clusters_kmeans_7, 7, micro_to_macro, colors, c, \"kmeans_7clusters\")"
   ]
  },
  {
   "cell_type": "code",
   "execution_count": null,
   "metadata": {
    "id": "1uvSlsm50LxA"
   },
   "outputs": [],
   "source": [
    "from yellowbrick.cluster import SilhouetteVisualizer\n",
    "\n",
    "visualizer = SilhouetteVisualizer(kmeans_7clusters, colors='yellowbrick')\n",
    "visualizer.fit(X_trainb)\n",
    "visualizer.show()"
   ]
  },
  {
   "cell_type": "code",
   "execution_count": null,
   "metadata": {
    "id": "iZBaMhR_1lTl"
   },
   "outputs": [],
   "source": [
    "metrics.silhouette_score(X_trainb, kmeans_7clusters.labels_, metric='euclidean')"
   ]
  },
  {
   "cell_type": "code",
   "execution_count": null,
   "metadata": {
    "id": "Ihj_6RMS7RNo"
   },
   "outputs": [],
   "source": [
    "new_clusters = []\n",
    "for cluster in clusters_kmeans_7:\n",
    "  new_cluster = np.where(cluster == 'rapina', 1, cluster)\n",
    "  new_cluster = np.where(new_cluster == 'furto', 1, new_cluster)\n",
    "  new_cluster = np.where(new_cluster == 'spaccio', 2, new_cluster)\n",
    "  new_cluster = np.where(new_cluster == 'droga', 2, new_cluster)\n",
    "  new_cluster = np.where(new_cluster == 'truffa', 3, new_cluster)\n",
    "  new_cluster = np.where(new_cluster == 'riciclaggio', 3, new_cluster)\n",
    "  new_cluster = np.where(new_cluster == 'frode', 3, new_cluster)\n",
    "  new_cluster = np.where(new_cluster == 'aggressione', 4, new_cluster)\n",
    "  new_cluster = np.where(new_cluster == 'maltrattamento', 4, new_cluster)\n",
    "  new_cluster = np.where(new_cluster == 'violenza sessuale', 4, new_cluster)\n",
    "  new_cluster = np.where(new_cluster == 'sequestro', 5, new_cluster)\n",
    "  new_cluster = np.where(new_cluster == 'omicidio', 6, new_cluster)\n",
    "  new_cluster = np.where(new_cluster == 'evasione', 7, new_cluster)\n",
    "\n",
    "  new_clusters.append(new_cluster)"
   ]
  },
  {
   "cell_type": "code",
   "execution_count": null,
   "metadata": {
    "id": "pvOdFd3d1zDK"
   },
   "outputs": [],
   "source": [
    "M = matrix_multiclusters(new_clusters, 7)\n",
    "M"
   ]
  },
  {
   "cell_type": "markdown",
   "metadata": {
    "id": "wevXcSFkjSAT"
   },
   "source": [
    "# AgglomerativeClustering"
   ]
  },
  {
   "cell_type": "code",
   "execution_count": null,
   "metadata": {
    "id": "m6C6R7_pjSAT"
   },
   "outputs": [],
   "source": [
    "%%time\n",
    "\n",
    "model = AgglomerativeClustering(n_clusters=7)\n",
    "pred_classes_agglo7 = model.fit_predict(X_trainb)"
   ]
  },
  {
   "cell_type": "code",
   "execution_count": null,
   "metadata": {
    "id": "RDTCcKzhjSAT"
   },
   "outputs": [],
   "source": [
    "clusters_agglo_7 = generate_clusters(7, Y_trainb, pred_classes_agglo7)"
   ]
  },
  {
   "cell_type": "code",
   "execution_count": null,
   "metadata": {
    "id": "xm2aT0KUjSAT",
    "scrolled": true
   },
   "outputs": [],
   "source": [
    "plot_multiclusters(clusters_agglo_7, 7, micro_to_macro, colors, c, \"agglomerative_clustering_7clusters\")"
   ]
  },
  {
   "cell_type": "code",
   "execution_count": null,
   "metadata": {
    "id": "XE5lwMOjGMJ2"
   },
   "outputs": [],
   "source": [
    "new_clusters = []\n",
    "for cluster in clusters_agglo_7:\n",
    "  new_cluster = np.where(cluster == 'rapina', 1, cluster)\n",
    "  new_cluster = np.where(new_cluster == 'furto', 1, new_cluster)\n",
    "  new_cluster = np.where(new_cluster == 'spaccio', 2, new_cluster)\n",
    "  new_cluster = np.where(new_cluster == 'droga', 2, new_cluster)\n",
    "  new_cluster = np.where(new_cluster == 'truffa', 3, new_cluster)\n",
    "  new_cluster = np.where(new_cluster == 'riciclaggio', 3, new_cluster)\n",
    "  new_cluster = np.where(new_cluster == 'frode', 3, new_cluster)\n",
    "  new_cluster = np.where(new_cluster == 'aggressione', 4, new_cluster)\n",
    "  new_cluster = np.where(new_cluster == 'maltrattamento', 4, new_cluster)\n",
    "  new_cluster = np.where(new_cluster == 'violenza sessuale', 4, new_cluster)\n",
    "  new_cluster = np.where(new_cluster == 'sequestro', 5, new_cluster)\n",
    "  new_cluster = np.where(new_cluster == 'omicidio', 6, new_cluster)\n",
    "  new_cluster = np.where(new_cluster == 'evasione', 7, new_cluster)\n",
    "\n",
    "  new_clusters.append(new_cluster)"
   ]
  },
  {
   "cell_type": "code",
   "execution_count": null,
   "metadata": {
    "id": "uKSiaYyJGdRU"
   },
   "outputs": [],
   "source": [
    "M = matrix_multiclusters(new_clusters, 7)\n",
    "M"
   ]
  },
  {
   "cell_type": "code",
   "execution_count": null,
   "metadata": {},
   "outputs": [],
   "source": [
    "metrics.silhouette_score(X_trainb, model.labels_, metric='euclidean')"
   ]
  },
  {
   "cell_type": "markdown",
   "metadata": {
    "id": "MHVp1MLMjSAT"
   },
   "source": [
    "# MiniBatchKmeans"
   ]
  },
  {
   "cell_type": "code",
   "execution_count": null,
   "metadata": {
    "id": "agZRnOc8jSAT"
   },
   "outputs": [],
   "source": [
    "%%time\n",
    "\n",
    "minikmeans_7clusters = MiniBatchKMeans(n_clusters=7, random_state=0, batch_size=6)\n",
    "pred_classes_7clusters = minikmeans_7clusters.fit_predict(X_trainb)"
   ]
  },
  {
   "cell_type": "code",
   "execution_count": null,
   "metadata": {
    "id": "H0OY4xC6jSAT"
   },
   "outputs": [],
   "source": [
    "clusters_minibatch_7 = generate_clusters(7, Y_trainb, pred_classes_7clusters)"
   ]
  },
  {
   "cell_type": "code",
   "execution_count": null,
   "metadata": {
    "id": "7GCBR8nejSAT"
   },
   "outputs": [],
   "source": [
    "plot_multiclusters(clusters_minibatch_7, 7, micro_to_macro, colors, c, \"mini_batch_kmeans_7clusters\")"
   ]
  },
  {
   "cell_type": "code",
   "execution_count": null,
   "metadata": {},
   "outputs": [],
   "source": [
    "metrics.silhouette_score(X_trainb, minikmeans_7clusters.labels_, metric='euclidean')"
   ]
  },
  {
   "cell_type": "code",
   "execution_count": null,
   "metadata": {
    "id": "YLMsVXPkGO5s"
   },
   "outputs": [],
   "source": [
    "new_clusters = []\n",
    "for cluster in clusters_minibatch_7:\n",
    "  new_cluster = np.where(cluster == 'rapina', 1, cluster)\n",
    "  new_cluster = np.where(new_cluster == 'furto', 1, new_cluster)\n",
    "  new_cluster = np.where(new_cluster == 'spaccio', 2, new_cluster)\n",
    "  new_cluster = np.where(new_cluster == 'droga', 2, new_cluster)\n",
    "  new_cluster = np.where(new_cluster == 'truffa', 3, new_cluster)\n",
    "  new_cluster = np.where(new_cluster == 'riciclaggio', 3, new_cluster)\n",
    "  new_cluster = np.where(new_cluster == 'frode', 3, new_cluster)\n",
    "  new_cluster = np.where(new_cluster == 'aggressione', 4, new_cluster)\n",
    "  new_cluster = np.where(new_cluster == 'maltrattamento', 4, new_cluster)\n",
    "  new_cluster = np.where(new_cluster == 'violenza sessuale', 4, new_cluster)\n",
    "  new_cluster = np.where(new_cluster == 'sequestro', 5, new_cluster)\n",
    "  new_cluster = np.where(new_cluster == 'omicidio', 6, new_cluster)\n",
    "  new_cluster = np.where(new_cluster == 'evasione', 7, new_cluster)\n",
    "\n",
    "  new_clusters.append(new_cluster)"
   ]
  },
  {
   "cell_type": "code",
   "execution_count": null,
   "metadata": {
    "id": "Tv6j1Ug4Geep"
   },
   "outputs": [],
   "source": [
    "M = matrix_multiclusters(new_clusters, 7)\n",
    "M"
   ]
  },
  {
   "cell_type": "markdown",
   "metadata": {
    "id": "_k9z8j4icD4C"
   },
   "source": [
    "# Spectral clustering"
   ]
  },
  {
   "cell_type": "code",
   "execution_count": null,
   "metadata": {
    "id": "1bBzLSancD4C"
   },
   "outputs": [],
   "source": [
    "%%time\n",
    "\n",
    "spcl_7clusters = SpectralClustering(n_clusters=7, assign_labels=\"discretize\", random_state=0)\n",
    "pred_classes_spcl_7clusters = spcl_7clusters.fit_predict(X_trainb)"
   ]
  },
  {
   "cell_type": "code",
   "execution_count": null,
   "metadata": {
    "id": "HkME5UVccD4D"
   },
   "outputs": [],
   "source": [
    "clusters_splc_7= generate_clusters(7, Y_trainb, pred_classes_spcl_7clusters)"
   ]
  },
  {
   "cell_type": "code",
   "execution_count": null,
   "metadata": {
    "id": "UoGCVbJkcD4D",
    "scrolled": true
   },
   "outputs": [],
   "source": [
    "plot_multiclusters(clusters_splc_7, 7, micro_to_macro, colors, c, \"spectral_clustering_7clusters\")"
   ]
  },
  {
   "cell_type": "code",
   "execution_count": null,
   "metadata": {
    "id": "vSdvC7bNGR3x"
   },
   "outputs": [],
   "source": [
    "new_clusters = []\n",
    "for cluster in clusters_splc_7:\n",
    "  new_cluster = np.where(cluster == 'rapina', 1, cluster)\n",
    "  new_cluster = np.where(new_cluster == 'furto', 1, new_cluster)\n",
    "  new_cluster = np.where(new_cluster == 'spaccio', 2, new_cluster)\n",
    "  new_cluster = np.where(new_cluster == 'droga', 2, new_cluster)\n",
    "  new_cluster = np.where(new_cluster == 'truffa', 3, new_cluster)\n",
    "  new_cluster = np.where(new_cluster == 'riciclaggio', 3, new_cluster)\n",
    "  new_cluster = np.where(new_cluster == 'frode', 3, new_cluster)\n",
    "  new_cluster = np.where(new_cluster == 'aggressione', 4, new_cluster)\n",
    "  new_cluster = np.where(new_cluster == 'maltrattamento', 4, new_cluster)\n",
    "  new_cluster = np.where(new_cluster == 'violenza sessuale', 4, new_cluster)\n",
    "  new_cluster = np.where(new_cluster == 'sequestro', 5, new_cluster)\n",
    "  new_cluster = np.where(new_cluster == 'omicidio', 6, new_cluster)\n",
    "  new_cluster = np.where(new_cluster == 'evasione', 7, new_cluster)\n",
    "\n",
    "  new_clusters.append(new_cluster)"
   ]
  },
  {
   "cell_type": "code",
   "execution_count": null,
   "metadata": {
    "id": "zdng7UYFGf5q"
   },
   "outputs": [],
   "source": [
    "M = matrix_multiclusters(new_clusters, 7)\n",
    "M"
   ]
  },
  {
   "cell_type": "code",
   "execution_count": null,
   "metadata": {
    "id": "nkKtuymTjSAU"
   },
   "outputs": [],
   "source": []
  }
 ],
 "metadata": {
  "accelerator": "GPU",
  "colab": {
   "name": "unsupervised_classification.ipynb",
   "provenance": []
  },
  "kernelspec": {
   "display_name": "Python 3 (ipykernel)",
   "language": "python",
   "name": "python3"
  },
  "language_info": {
   "codemirror_mode": {
    "name": "ipython",
    "version": 3
   },
   "file_extension": ".py",
   "mimetype": "text/x-python",
   "name": "python",
   "nbconvert_exporter": "python",
   "pygments_lexer": "ipython3",
   "version": "3.9.7"
  }
 },
 "nbformat": 4,
 "nbformat_minor": 1
}
